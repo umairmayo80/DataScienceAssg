{
 "cells": [
  {
   "cell_type": "markdown",
   "id": "3e8e171e",
   "metadata": {},
   "source": [
    "## Progam1: String formating"
   ]
  },
  {
   "cell_type": "code",
   "execution_count": 51,
   "id": "0bfbd26b",
   "metadata": {},
   "outputs": [
    {
     "name": "stdout",
     "output_type": "stream",
     "text": [
      "\n",
      "\n",
      "\t\tTwinkle, twinkle, little star,\n",
      "\t\t\tHow I wonder what you are!\n",
      "\t\t\t\tUp above the world so high,\n",
      "\t\t\t\tLike a diamond in the sky.\n",
      "\t\tTwinkle, twinkle, little star,\n",
      "\t\t\tHow I wonder what you are.\n"
     ]
    }
   ],
   "source": [
    "print(\"\\n\\n\\t\\tTwinkle, twinkle, little star,\\n\\t\\t\\tHow I wonder what you are!\\n\\t\\t\\t\\tUp above the world so high,\\n\\t\\t\\t\\tLike a diamond in the sky.\\n\\t\\tTwinkle, twinkle, little star,\\n\\t\\t\\tHow I wonder what you are.\")"
   ]
  },
  {
   "cell_type": "markdown",
   "id": "4655bde6",
   "metadata": {},
   "source": [
    "## Progam2: Printing Current Python Version"
   ]
  },
  {
   "cell_type": "code",
   "execution_count": 52,
   "id": "c0f5354f",
   "metadata": {},
   "outputs": [
    {
     "name": "stdout",
     "output_type": "stream",
     "text": [
      "Python version: 3.9.7\n"
     ]
    }
   ],
   "source": [
    "from platform import python_version\n",
    "print(\"Python version:\", python_version())\n"
   ]
  },
  {
   "cell_type": "markdown",
   "id": "6047fbc9",
   "metadata": {},
   "source": [
    "## Program3: Printing Current Date & Time"
   ]
  },
  {
   "cell_type": "code",
   "execution_count": 53,
   "id": "e73a7bff",
   "metadata": {},
   "outputs": [
    {
     "name": "stdout",
     "output_type": "stream",
     "text": [
      "Today's date and Time is: 2022-01-01 03:58:38.586799\n"
     ]
    }
   ],
   "source": [
    "from datetime import date, datetime\n",
    "\n",
    "print(\"Today's date and Time is:\", datetime.now())"
   ]
  },
  {
   "cell_type": "markdown",
   "id": "2f6ff4a3",
   "metadata": {},
   "source": [
    "## Program4: Area of a Circle"
   ]
  },
  {
   "cell_type": "code",
   "execution_count": 21,
   "id": "5fd7b593",
   "metadata": {},
   "outputs": [
    {
     "name": "stdout",
     "output_type": "stream",
     "text": [
      " Please Enter the radius of a circle: 2\n",
      " Area Of Circle = 12.56\n",
      " Area of Circle = 12.56\n"
     ]
    }
   ],
   "source": [
    "PI = 3.14\n",
    "radius = float(input(' Please Enter the radius of a circle: '))\n",
    "area = PI * radius * radius\n",
    "print(\" Area Of Circle = %.2f\" %area) \n",
    "print(\" Area of Circle = {Area:.2f}\".format(Area=area))"
   ]
  },
  {
   "cell_type": "markdown",
   "id": "366e544d",
   "metadata": {},
   "source": [
    "## Program5: Reversing Fname & Lname"
   ]
  },
  {
   "cell_type": "code",
   "execution_count": 49,
   "id": "62c8c736",
   "metadata": {},
   "outputs": [
    {
     "name": "stdout",
     "output_type": "stream",
     "text": [
      "Enter First Namefn\n",
      "Enter Last Nameln\n",
      "Your Fisrt Name & Last Name in Reverse Order:\n",
      "First Name:nf\n",
      "Last Name:nl\n"
     ]
    }
   ],
   "source": [
    "fName = input(\"Enter First Name\")\n",
    "lName = input(\"Enter Last Name\")\n",
    "#fName = \"FN\"\n",
    "#lName = \"Ln\"\n",
    "\n",
    "\n",
    "print(\"Your Fisrt Name & Last Name in Reverse Order:\\nFirst Name:{Fn}\\nLast Name:{Ln}\".format(Fn = fName[::-1], Ln = lName[::-1]))\n"
   ]
  },
  {
   "cell_type": "markdown",
   "id": "4d8cc3ff",
   "metadata": {},
   "source": [
    "## Program6: Adding two inputs"
   ]
  },
  {
   "cell_type": "code",
   "execution_count": 50,
   "id": "35410faf",
   "metadata": {},
   "outputs": [
    {
     "name": "stdout",
     "output_type": "stream",
     "text": [
      "Enter first input:2\n",
      "Enter Last second:3\n",
      "Result:5.0\n"
     ]
    }
   ],
   "source": [
    "inp1 = input(\"Enter first input:\")\n",
    "inp2 = input(\"Enter second input:\")\n",
    "\n",
    "print(\"Result:\", end='')\n",
    "if ( ( inp1.isdecimal() ) and ( inp2.isdecimal() ) ): \n",
    "    print(float(inp1)+float(inp2))\n",
    "else:\n",
    "    print(inp1+inp2)"
   ]
  },
  {
   "cell_type": "code",
   "execution_count": null,
   "id": "86c47b39",
   "metadata": {},
   "outputs": [],
   "source": []
  }
 ],
 "metadata": {
  "kernelspec": {
   "display_name": "Python 3 (ipykernel)",
   "language": "python",
   "name": "python3"
  },
  "language_info": {
   "codemirror_mode": {
    "name": "ipython",
    "version": 3
   },
   "file_extension": ".py",
   "mimetype": "text/x-python",
   "name": "python",
   "nbconvert_exporter": "python",
   "pygments_lexer": "ipython3",
   "version": "3.9.7"
  }
 },
 "nbformat": 4,
 "nbformat_minor": 5
}
